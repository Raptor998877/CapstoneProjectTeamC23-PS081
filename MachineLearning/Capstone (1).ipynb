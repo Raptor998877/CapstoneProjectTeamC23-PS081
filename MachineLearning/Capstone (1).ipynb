{
  "nbformat": 4,
  "nbformat_minor": 0,
  "metadata": {
    "colab": {
      "provenance": []
    },
    "kernelspec": {
      "name": "python3",
      "display_name": "Python 3"
    },
    "language_info": {
      "name": "python"
    }
  },
  "cells": [
    {
      "cell_type": "code",
      "source": [
        "import pandas as pd\n",
        "import re\n",
        "import math\n",
        "import tensorflow as tf"
      ],
      "metadata": {
        "id": "NATkg3864mW3"
      },
      "execution_count": 1,
      "outputs": []
    },
    {
      "cell_type": "code",
      "source": [
        "from google.colab import drive\n",
        "drive.mount('/content/drive')"
      ],
      "metadata": {
        "colab": {
          "base_uri": "https://localhost:8080/"
        },
        "id": "FkpU9BOK48Lv",
        "outputId": "8ca38946-d2c4-4134-bc81-e51d8268574e"
      },
      "execution_count": 2,
      "outputs": [
        {
          "output_type": "stream",
          "name": "stdout",
          "text": [
            "Mounted at /content/drive\n"
          ]
        }
      ]
    },
    {
      "cell_type": "code",
      "source": [
        "data = pd.read_excel('/content/drive/MyDrive/survey data final.xlsx')\n",
        "data = data.dropna()\n",
        "data.head()"
      ],
      "metadata": {
        "id": "R51sVyMZ4-Xn"
      },
      "execution_count": null,
      "outputs": []
    },
    {
      "cell_type": "code",
      "source": [
        "#array for case that easier to solve than using regex\n",
        "specialcasepupuk={}\n",
        "specialcasebuah={}\n",
        "specialcasebibit={}\n",
        "specialcasebahanolahan={}\n",
        "stupidcase=['etc','random','','obat','juwet']"
      ],
      "metadata": {
        "id": "xmBiRGd7NO0J"
      },
      "execution_count": null,
      "outputs": []
    },
    {
      "cell_type": "code",
      "source": [
        "#minimum amount of food/drink selected. Below these, they won't be included to database\n",
        "pupuk_threshold=3\n",
        "buah_threshold=2\n",
        "bibit_threshold=2\n",
        "bahanolahan_threshold=2"
      ],
      "metadata": {
        "id": "Md3RHNDz5bmI"
      },
      "execution_count": null,
      "outputs": []
    },
    {
      "cell_type": "code",
      "source": [
        "#get food row from pandas dataframe and make it lowercase\n",
        "pupukarr=data['Apa produk pertanian berupa PUPUK yang sering kamu temui, dan tertarik untuk mencari tahu informasinya lebih lanjut ?'].str.lower().str.strip(' ')"
      ],
      "metadata": {
        "id": "E_ZXUxeZ5gcn"
      },
      "execution_count": null,
      "outputs": []
    },
    {
      "cell_type": "code",
      "source": [
        "#count the amount of pupuk, picked from survey\n",
        "pupukdict={}\n",
        "for i in pupukarr:\n",
        "    #use dict to prevent duplicate\n",
        "    temp=dict.fromkeys(i.split(', '))\n",
        "    #skip if below threshold\n",
        "    if len(temp) < pupuk_threshold:\n",
        "      continue\n",
        "    #split the data\n",
        "    for j in temp:\n",
        "        if j in stupidcase:\n",
        "            continue\n",
        "        if j not in specialcasepupuk:\n",
        "            processedname=j.replace(' ',\"\")\n",
        "            if j in pupukdict:\n",
        "                pupukdict[processedname]=pupukdict[processedname]+1\n",
        "            else:\n",
        "                pupukdict[processedname]=1\n",
        "        else:\n",
        "            entry=specialcasepupuk[j]\n",
        "            processedname=entry.replace(' ',\"\")\n",
        "            if entry in pupukdict:\n",
        "                pupukdict[processedname]=pupukdict[processedname]+1\n",
        "            else:\n",
        "                pupukdict[processedname]=1"
      ],
      "metadata": {
        "id": "TWLOPeNM5uYA"
      },
      "execution_count": null,
      "outputs": []
    },
    {
      "cell_type": "code",
      "source": [
        "#view the data, sorted by amount\n",
        "dict(sorted(pupukdict.items(), key=lambda item: item[1]))"
      ],
      "metadata": {
        "colab": {
          "base_uri": "https://localhost:8080/"
        },
        "id": "oL5Jc_eL5w5B",
        "outputId": "59368918-d71d-4a6a-c7b3-1df728da572f"
      },
      "execution_count": null,
      "outputs": [
        {
          "output_type": "execute_result",
          "data": {
            "text/plain": [
              "{'nasigoreng': 1,\n",
              " 'miekuah': 1,\n",
              " 'gorengankering': 1,\n",
              " 'eskrim': 1,\n",
              " 'luarnegeri': 1,\n",
              " 'gorenganbasah': 1,\n",
              " 'kacang': 15,\n",
              " 'ubi': 16,\n",
              " 'jagung': 19,\n",
              " 'berkuah': 41,\n",
              " 'nasi': 46,\n",
              " 'tahu': 48,\n",
              " 'buah': 51,\n",
              " 'roti': 57,\n",
              " 'kue': 70,\n",
              " 'ayam': 95,\n",
              " 'mie': 96,\n",
              " 'bubur': 105,\n",
              " 'sate': 120,\n",
              " 'bakso': 161}"
            ]
          },
          "metadata": {},
          "execution_count": 9
        }
      ]
    },
    {
      "cell_type": "code",
      "source": [
        "#use pandas to turn the data into categorical index\n",
        "pupuk_cat=pd.CategoricalIndex(pupukdict)\n",
        "#make hot encoded food array\n",
        "hotencoded_pupukarr=[]\n",
        "for i in pupukarr:\n",
        "    temparr=[]\n",
        "    temp=dict.fromkeys(i.split(', '))\n",
        "    if len(temp) < pupuk_threshold:\n",
        "        hotencoded_pupukarr.append([])\n",
        "        continue\n",
        "    for j in pupuk_cat:\n",
        "        if j in i.split(', '):\n",
        "            temparr.append(1)\n",
        "        else:\n",
        "            temparr.append(0)\n",
        "    hotencoded_pupukarr.append(temparr)"
      ],
      "metadata": {
        "id": "pxEnX_V0522X"
      },
      "execution_count": null,
      "outputs": []
    },
    {
      "cell_type": "code",
      "source": [
        "#get food row from pandas dataframe and make it lowercase\n",
        "buaharr=data['Apa produk pertanian berupa BIBIT/BIJI yang sering kamu temui, dan tertarik untuk mencari tahu informasinya lebih lanjut ?'].str.lower().str.strip(' ')"
      ],
      "metadata": {
        "id": "3GPIQrwT55S-"
      },
      "execution_count": null,
      "outputs": []
    },
    {
      "cell_type": "code",
      "source": [
        "#count the amount of food, picked from survey\n",
        "buahdict={}\n",
        "for i in buaharr:\n",
        "    #use dict to prevent duplicate\n",
        "    temp=dict.fromkeys(i.split(', '))\n",
        "    #skip if below threshold\n",
        "    if len(temp)<buah_threshold:\n",
        "      continue\n",
        "    for j in temp:\n",
        "        if j in stupidcase:\n",
        "            continue\n",
        "        if j not in specialcasebuah:\n",
        "            processedname=j.replace(' ',\"\")\n",
        "            if j in buahdict:\n",
        "                buahdict[processedname]=buahdict[processedname]+1\n",
        "            else:\n",
        "                buahdict[processedname]=1\n",
        "        else:\n",
        "            entry=specialcasebuah[j]\n",
        "            processedname=entry.replace(' ',\"\")\n",
        "            if entry in buahdict:\n",
        "                buahdict[processedname]=buahdict[processedname]+1\n",
        "            else:\n",
        "                buahdict[processedname]=1"
      ],
      "metadata": {
        "id": "ZJQjbVEe59OI"
      },
      "execution_count": null,
      "outputs": []
    },
    {
      "cell_type": "code",
      "source": [
        "dict(sorted(buahdict.items(), key=lambda item: item[1]))"
      ],
      "metadata": {
        "colab": {
          "base_uri": "https://localhost:8080/"
        },
        "id": "RIok-iCK5_wG",
        "outputId": "a4bb365b-c1c8-4d38-9c1d-8fa887ce571f"
      },
      "execution_count": null,
      "outputs": [
        {
          "output_type": "execute_result",
          "data": {
            "text/plain": [
              "{'escampur': 1,\n",
              " 'bubbletea': 1,\n",
              " 'jusbuah': 1,\n",
              " 'softdrink': 1,\n",
              " 'esdoger': 1,\n",
              " 'airmineral': 1,\n",
              " 'airkelapa': 1,\n",
              " 'kopi': 46,\n",
              " 'susu': 68,\n",
              " 'cendol': 75,\n",
              " 'teh': 76}"
            ]
          },
          "metadata": {},
          "execution_count": 14
        }
      ]
    },
    {
      "cell_type": "code",
      "source": [
        "buah_cat=pd.CategoricalIndex(buahdict)"
      ],
      "metadata": {
        "id": "mo591hG56C52"
      },
      "execution_count": null,
      "outputs": []
    },
    {
      "cell_type": "code",
      "source": [
        "#use pandas to turn the data into categorical index\n",
        "hotencoded_buaharr=[]\n",
        "for i in buaharr:\n",
        "    temparr=[]\n",
        "    temp=dict.fromkeys(i.split(', '))\n",
        "    if len(temp)<buah_threshold:\n",
        "        hotencoded_buaharr.append([])\n",
        "        continue\n",
        "    for j in buah_cat:\n",
        "        if j in i.split(', '):\n",
        "            temparr.append(1)\n",
        "        else:\n",
        "            temparr.append(0)\n",
        "    hotencoded_buaharr.append(temparr)"
      ],
      "metadata": {
        "id": "ijYr8Mkn6GXe"
      },
      "execution_count": null,
      "outputs": []
    },
    {
      "cell_type": "code",
      "source": [
        "#Convert food and drink hot encoded array into an array filled with ratings. 0 means 1 rating and 1 means 5 rating.\n",
        "#check again if the value is below threshold\n",
        "# also count the total of entries for generating user id\n",
        "label=[]\n",
        "rating=[]\n",
        "\n",
        "counter=0\n",
        "userarr=[]\n",
        "\n",
        "for i in range(len(hotencoded_pupukarr)):\n",
        "    if len(hotencoded_pupukarr[i])==0 or len(hotencoded_buaharr[i])==0:\n",
        "        counter+=1\n",
        "        continue\n",
        "    for j in range(len(hotencoded_pupukarr[i])):\n",
        "        label.append(pupuk_cat[j])\n",
        "        if hotencoded_pupukarr[i][j]:\n",
        "            rate=5\n",
        "        else:\n",
        "            rate=1\n",
        "        rating.append(rate)\n",
        "    for j in range(len(hotencoded_buaharr[i])):\n",
        "        label.append(buah_cat[j])\n",
        "        if hotencoded_buaharr[i][j]:\n",
        "            rate=5\n",
        "        else:\n",
        "            rate=1\n",
        "        rating.append(rate)\n",
        "    userarr.append(counter)\n",
        "    counter+=1"
      ],
      "metadata": {
        "id": "mZoIMFD56Iaw"
      },
      "execution_count": null,
      "outputs": []
    },
    {
      "cell_type": "code",
      "source": [
        "#generate user ID\n",
        "userid=[]\n",
        "total_cat=len(pupuk_cat)+len(buah_cat)\n",
        "for i in range(len(label)):\n",
        "    userid.append(userarr[math.floor(i/total_cat)])"
      ],
      "metadata": {
        "id": "6wH95GyN6KCC"
      },
      "execution_count": null,
      "outputs": []
    },
    {
      "cell_type": "code",
      "source": [
        "#Create the data and export it\n",
        "output=pd.DataFrame([userid,label,rating]).T.rename({0:'userid',1:'produkid',2:'rating'},axis=1)\n",
        "output.to_csv('Ekstrasi.csv',index=False)"
      ],
      "metadata": {
        "id": "C0bDx8Zz6NIA"
      },
      "execution_count": null,
      "outputs": []
    },
    {
      "cell_type": "code",
      "source": [
        "port firestoreimport firebase_admin as fb\n",
        "from firebase_admin im"
      ],
      "metadata": {
        "id": "cOQbIzR86O8o",
        "colab": {
          "base_uri": "https://localhost:8080/",
          "height": 134
        },
        "outputId": "e6588223-d0c4-47eb-f7bb-2df7d4fa35cd"
      },
      "execution_count": null,
      "outputs": [
        {
          "output_type": "error",
          "ename": "SyntaxError",
          "evalue": "ignored",
          "traceback": [
            "\u001b[0;36m  File \u001b[0;32m\"<ipython-input-20-92fd7a054c00>\"\u001b[0;36m, line \u001b[0;32m1\u001b[0m\n\u001b[0;31m    port firestoreimport firebase_admin as fb\u001b[0m\n\u001b[0m         ^\u001b[0m\n\u001b[0;31mSyntaxError\u001b[0m\u001b[0;31m:\u001b[0m invalid syntax\n"
          ]
        }
      ]
    },
    {
      "cell_type": "code",
      "source": [
        "cred = fb.credentials.Certificate('credential.json')\n",
        "fb.initialize_app(cred, {'databaseURL': 'https://keenam-cap0428-default-rtdb.asia-southeast1.firebasedatabase.app'})\n",
        "db = firestore.client()\n",
        "batch = db.batch()"
      ],
      "metadata": {
        "id": "FJ5rntaO6Qme"
      },
      "execution_count": null,
      "outputs": []
    },
    {
      "cell_type": "code",
      "source": [
        "Fooddoc = db.collection('DefaultVal').document('Produk')\n",
        "Fooddoc.set(\n",
        "    {\n",
        "        'Pupuk':list(pupukdict.keys()),\n",
        "        'Buah':list(buahdict.keys())\n",
        "    }\n",
        ")\n",
        "   "
      ],
      "metadata": {
        "id": "MNhUxE_26hl4"
      },
      "execution_count": null,
      "outputs": []
    }
  ]
}